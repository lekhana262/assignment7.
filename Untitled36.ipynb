{
  "nbformat": 4,
  "nbformat_minor": 0,
  "metadata": {
    "colab": {
      "name": "Untitled36.ipynb",
      "provenance": [],
      "collapsed_sections": [],
      "authorship_tag": "ABX9TyOieQI4Z9fODSiO+4okisiC",
      "include_colab_link": true
    },
    "kernelspec": {
      "name": "python3",
      "display_name": "Python 3"
    }
  },
  "cells": [
    {
      "cell_type": "markdown",
      "metadata": {
        "id": "view-in-github",
        "colab_type": "text"
      },
      "source": [
        "<a href=\"https://colab.research.google.com/github/lekhana262/assignment7./blob/master/Untitled36.ipynb\" target=\"_parent\"><img src=\"https://colab.research.google.com/assets/colab-badge.svg\" alt=\"Open In Colab\"/></a>"
      ]
    },
    {
      "cell_type": "code",
      "metadata": {
        "id": "MAYzaxouaIxT",
        "colab_type": "code",
        "colab": {
          "base_uri": "https://localhost:8080/",
          "height": 84
        },
        "outputId": "a0f2602b-820b-4f59-96a3-273930f81a34"
      },
      "source": [
        "#python program to find combination of letter\n",
        "import itertools\n",
        "d ={'1':['a','b'],'2':['c','d']}\n",
        "for combo in itertools.product(*[d[k]for k in sorted(d.keys())]):\n",
        "    print(''.join(combo))"
      ],
      "execution_count": 1,
      "outputs": [
        {
          "output_type": "stream",
          "text": [
            "ac\n",
            "ad\n",
            "bc\n",
            "bd\n"
          ],
          "name": "stdout"
        }
      ]
    },
    {
      "cell_type": "code",
      "metadata": {
        "id": "jP3NIzvvbL4P",
        "colab_type": "code",
        "colab": {
          "base_uri": "https://localhost:8080/",
          "height": 34
        },
        "outputId": "02b42028-286c-4a6c-863a-be080f7468a1"
      },
      "source": [
        "#python program to find dictionary from a string\n",
        "from collections import defaultdict,Counter\n",
        "str1 = 'gitam'\n",
        "my_dict = {}\n",
        "for letter in str1:\n",
        "   my_dict[letter] = my_dict.get(letter,0)+1\n",
        "print(my_dict)"
      ],
      "execution_count": 2,
      "outputs": [
        {
          "output_type": "stream",
          "text": [
            "{'g': 1, 'i': 1, 't': 1, 'a': 1, 'm': 1}\n"
          ],
          "name": "stdout"
        }
      ]
    },
    {
      "cell_type": "code",
      "metadata": {
        "id": "U-pCaSWqbzvd",
        "colab_type": "code",
        "colab": {
          "base_uri": "https://localhost:8080/",
          "height": 50
        },
        "outputId": "6393f0d5-5223-41d9-87c2-bfac45978eed"
      },
      "source": [
        "#python program to find length of tuple\n",
        "tuplex=tuple(\"gitam university\")\n",
        "print(tuplex)\n",
        "print(len(tuplex))"
      ],
      "execution_count": 3,
      "outputs": [
        {
          "output_type": "stream",
          "text": [
            "('g', 'i', 't', 'a', 'm', ' ', 'u', 'n', 'i', 'v', 'e', 'r', 's', 'i', 't', 'y')\n",
            "16\n"
          ],
          "name": "stdout"
        }
      ]
    },
    {
      "cell_type": "code",
      "metadata": {
        "id": "t4k1jVXtcH4n",
        "colab_type": "code",
        "colab": {
          "base_uri": "https://localhost:8080/",
          "height": 34
        },
        "outputId": "eb5bfeb7-c9b9-44e4-ed7b-3d37b729c3b8"
      },
      "source": [
        "#python program to convert tuple to a string\n",
        "tup=('l','e','k','h','a','n','a')\n",
        "str=''.join(tup)\n",
        "print(str)"
      ],
      "execution_count": 4,
      "outputs": [
        {
          "output_type": "stream",
          "text": [
            "lekhana\n"
          ],
          "name": "stdout"
        }
      ]
    },
    {
      "cell_type": "code",
      "metadata": {
        "id": "jjS7jF7pc2-o",
        "colab_type": "code",
        "colab": {
          "base_uri": "https://localhost:8080/",
          "height": 168
        },
        "outputId": "f6f88fc5-b01d-4ed8-999b-9c4a2d312e9e"
      },
      "source": [
        "#python program to slice a tuple\n",
        "tuplex=(2,4,3,5,4,6,7,8,6,1)\n",
        "_slice=tuplex[3:5]\n",
        "print(_slice)\n",
        "_slice=tuplex[:6]\n",
        "print(_slice)\n",
        "_slice=tuplex[5:]\n",
        "print(_slice)\n",
        "_slice=tuplex[:]\n",
        "print(_slice)\n",
        "_slice=tuplex[-8:-4]\n",
        "print(_slice)\n",
        "tuplex=tuple(\"hello world\")\n",
        "print(tuplex)\n",
        "_slice=tuplex[2:9:2]\n",
        "print(_slice)\n",
        "_slice=tuplex[::4]\n",
        "print(_slice)\n",
        "_slice=tuplex[9:2:-4]\n",
        "print(_slice)"
      ],
      "execution_count": 6,
      "outputs": [
        {
          "output_type": "stream",
          "text": [
            "(5, 4)\n",
            "(2, 4, 3, 5, 4, 6)\n",
            "(6, 7, 8, 6, 1)\n",
            "(2, 4, 3, 5, 4, 6, 7, 8, 6, 1)\n",
            "(3, 5, 4, 6)\n",
            "('h', 'e', 'l', 'l', 'o', ' ', 'w', 'o', 'r', 'l', 'd')\n",
            "('l', 'o', 'w', 'r')\n",
            "('h', 'o', 'r')\n",
            "('l', ' ')\n"
          ],
          "name": "stdout"
        }
      ]
    }
  ]
}